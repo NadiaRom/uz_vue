{
 "cells": [
  {
   "cell_type": "code",
   "execution_count": 90,
   "metadata": {},
   "outputs": [],
   "source": [
    "import pandas as pd, numpy as np, json\n",
    "from glob import glob"
   ]
  },
  {
   "cell_type": "code",
   "execution_count": 25,
   "metadata": {},
   "outputs": [
    {
     "data": {
      "text/plain": [
       "['daily.csv',\n",
       " 'hourly.csv',\n",
       " 'read_data.ipynb',\n",
       " 'stations.csv',\n",
       " 'stations.json',\n",
       " 'station_data',\n",
       " 'weekdays.csv']"
      ]
     },
     "execution_count": 25,
     "metadata": {},
     "output_type": "execute_result"
    }
   ],
   "source": [
    "glob('*')"
   ]
  },
  {
   "cell_type": "code",
   "execution_count": 13,
   "metadata": {},
   "outputs": [],
   "source": [
    "stations = pd.read_csv('stations.csv')\n",
    "\n",
    "stations.columns = ['id', 'kpas', 'lon', 'lat', 'name']\n",
    "stations.kpas = stations.kpas.round(0).astype(int)"
   ]
  },
  {
   "cell_type": "code",
   "execution_count": 24,
   "metadata": {},
   "outputs": [],
   "source": [
    "stations.to_json('stations.json', orient='records', force_ascii=False)"
   ]
  },
  {
   "cell_type": "code",
   "execution_count": 28,
   "metadata": {},
   "outputs": [],
   "source": [
    "hourly = pd.read_csv('hourly.csv')\n",
    "weekdays = pd.read_csv('weekdays.csv')\n",
    "daily = pd.read_csv('daily.csv')"
   ]
  },
  {
   "cell_type": "code",
   "execution_count": 46,
   "metadata": {},
   "outputs": [],
   "source": [
    "daily.kpas = daily.kpas.round().astype(int)\n",
    "daily = pd.pivot_table(daily, index=['station', 'date', 'name'], columns='type', values='kpas').reset_index()"
   ]
  },
  {
   "cell_type": "code",
   "execution_count": 96,
   "metadata": {},
   "outputs": [],
   "source": [
    "def get_st(st, name, lon, lat, kpas):\n",
    "    st_daily = daily.loc[daily.station == st, ['date','arrival','departure']\n",
    "                   ].fillna(0\n",
    "                   ).to_dict(orient='records')\n",
    "    st_weekdays = weekdays.loc[weekdays.station == st, ['weekday', 'arrival', 'departure']\n",
    "                         ].round(2\n",
    "                         ).fillna(0\n",
    "                         ).to_dict(orient='records')\n",
    "    st_hourly = hourly.loc[hourly.station == st, ['hour', 'arrival', 'departure']\n",
    "                     ].round(2\n",
    "                     ).fillna(0\n",
    "                     ).to_dict(orient='records')\n",
    "    d = {\n",
    "        'name': name,\n",
    "        'id': st,\n",
    "        'lon': lon,\n",
    "        'lat': lat,\n",
    "        'kpas': kpas,\n",
    "        'daily': st_daily,\n",
    "        'weekdays': st_weekdays,\n",
    "        'hourly': st_hourly,\n",
    "    }\n",
    "    return st, d\n",
    "\n",
    "all_st = dict(get_st(*t) for t in stations[['id', 'name', 'lon', 'lat', 'kpas']].values)"
   ]
  },
  {
   "cell_type": "code",
   "execution_count": 97,
   "metadata": {},
   "outputs": [
    {
     "data": {
      "text/plain": [
       "{'name': 'Тарасівка',\n",
       " 'id': 2201135,\n",
       " 'lon': 30.318772999999997,\n",
       " 'lat': 50.344643,\n",
       " 'kpas': 1,\n",
       " 'daily': [{'date': '2014-01-10', 'arrival': 0.0, 'departure': 1.0},\n",
       "  {'date': '2014-01-16', 'arrival': 0.0, 'departure': 1.0},\n",
       "  {'date': '2014-02-14', 'arrival': 0.0, 'departure': 1.0}],\n",
       " 'weekdays': [{'weekday': 4.0, 'arrival': 0.0, 'departure': 1.0},\n",
       "  {'weekday': 5.0, 'arrival': 0.0, 'departure': 1.0}],\n",
       " 'hourly': [{'hour': 6.0, 'arrival': 0.0, 'departure': 1.0}]}"
      ]
     },
     "execution_count": 97,
     "metadata": {},
     "output_type": "execute_result"
    }
   ],
   "source": [
    "all_st[2201135]"
   ]
  },
  {
   "cell_type": "code",
   "execution_count": 98,
   "metadata": {},
   "outputs": [],
   "source": [
    "with open('all_stations.json', 'w', encoding='utf-8') as f:\n",
    "    json.dump(all_st, f, ensure_ascii=False)"
   ]
  },
  {
   "cell_type": "code",
   "execution_count": null,
   "metadata": {},
   "outputs": [],
   "source": []
  }
 ],
 "metadata": {
  "kernelspec": {
   "display_name": "Python 3",
   "language": "python",
   "name": "python3"
  },
  "language_info": {
   "codemirror_mode": {
    "name": "ipython",
    "version": 3
   },
   "file_extension": ".py",
   "mimetype": "text/x-python",
   "name": "python",
   "nbconvert_exporter": "python",
   "pygments_lexer": "ipython3",
   "version": "3.7.1"
  },
  "toc": {
   "nav_menu": {},
   "number_sections": true,
   "sideBar": true,
   "skip_h1_title": false,
   "title_cell": "Table of Contents",
   "title_sidebar": "Contents",
   "toc_cell": false,
   "toc_position": {},
   "toc_section_display": true,
   "toc_window_display": false
  },
  "varInspector": {
   "cols": {
    "lenName": 16,
    "lenType": 16,
    "lenVar": 40
   },
   "kernels_config": {
    "python": {
     "delete_cmd_postfix": "",
     "delete_cmd_prefix": "del ",
     "library": "var_list.py",
     "varRefreshCmd": "print(var_dic_list())"
    },
    "r": {
     "delete_cmd_postfix": ") ",
     "delete_cmd_prefix": "rm(",
     "library": "var_list.r",
     "varRefreshCmd": "cat(var_dic_list()) "
    }
   },
   "types_to_exclude": [
    "module",
    "function",
    "builtin_function_or_method",
    "instance",
    "_Feature"
   ],
   "window_display": false
  }
 },
 "nbformat": 4,
 "nbformat_minor": 2
}
