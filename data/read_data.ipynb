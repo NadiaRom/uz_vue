{
 "cells": [
  {
   "cell_type": "code",
   "execution_count": 1,
   "metadata": {},
   "outputs": [],
   "source": [
    "import pandas as pd, numpy as np, json\n",
    "from glob import glob"
   ]
  },
  {
   "cell_type": "code",
   "execution_count": 2,
   "metadata": {},
   "outputs": [
    {
     "data": {
      "text/plain": [
       "['daily.csv', 'hourly.csv', 'read_data.ipynb', 'stations.csv', 'weekdays.csv']"
      ]
     },
     "execution_count": 2,
     "metadata": {},
     "output_type": "execute_result"
    }
   ],
   "source": [
    "glob('*')"
   ]
  },
  {
   "cell_type": "code",
   "execution_count": 3,
   "metadata": {},
   "outputs": [],
   "source": [
    "stations = pd.read_csv('stations.csv')\n",
    "\n",
    "stations.columns = ['id', 'kpas', 'lon', 'lat', 'name']\n",
    "stations.kpas = stations.kpas.round(0).astype(int)"
   ]
  },
  {
   "cell_type": "code",
   "execution_count": 4,
   "metadata": {},
   "outputs": [],
   "source": [
    "# stations.to_json('stations.json', orient='records', force_ascii=False)"
   ]
  },
  {
   "cell_type": "code",
   "execution_count": 5,
   "metadata": {},
   "outputs": [],
   "source": [
    "hourly = pd.read_csv('hourly.csv')\n",
    "weekdays = pd.read_csv('weekdays.csv')\n",
    "daily = pd.read_csv('daily.csv')"
   ]
  },
  {
   "cell_type": "code",
   "execution_count": 6,
   "metadata": {},
   "outputs": [],
   "source": [
    "daily.kpas = daily.kpas.round().astype(int)\n",
    "daily = pd.pivot_table(daily, index=['station', 'date', 'name'], columns='type', values='kpas').reset_index()\n",
    "daily.date = pd.to_datetime(daily.date)"
   ]
  },
  {
   "cell_type": "code",
   "execution_count": 7,
   "metadata": {},
   "outputs": [],
   "source": [
    "year = pd.DataFrame(pd.DatetimeIndex(freq=pd.DateOffset(days=1), start='2014-01-01', end='2014-12-31'), columns=['date'])"
   ]
  },
  {
   "cell_type": "code",
   "execution_count": 18,
   "metadata": {},
   "outputs": [],
   "source": [
    "def get_st(st, name, lon, lat, kpas):\n",
    "    st_daily = daily.loc[daily.station == st, ['date','arrival','departure']\n",
    "                   ].merge(year, how='right'\n",
    "                   ).fillna(0\n",
    "                   ).sort_values('date')\n",
    "    st_daily.date = st_daily.date.astype(str)\n",
    "    st_daily = st_daily.to_dict(orient='records')\n",
    "    \n",
    "    st_weekdays = weekdays.loc[weekdays.station == st, ['weekday', 'arrival', 'departure']\n",
    "                         ].round(2\n",
    "                         ).fillna(0\n",
    "                         ).to_dict(orient='records')\n",
    "    st_hourly = hourly.loc[hourly.station == st, ['hour', 'arrival', 'departure']\n",
    "                     ].round(2\n",
    "                     ).fillna(0\n",
    "                     ).to_dict(orient='records')\n",
    "    d = {\n",
    "        'name': name,\n",
    "        'id': st,\n",
    "        'lon': lon,\n",
    "        'lat': lat,\n",
    "        'kpas': kpas,\n",
    "        'daily': st_daily,\n",
    "        'weekdays': st_weekdays,\n",
    "        'hourly': st_hourly,\n",
    "    }\n",
    "    return st, d\n",
    "\n",
    "all_st = dict(get_st(*t) for t in stations[['id', 'name', 'lon', 'lat', 'kpas']].values)"
   ]
  },
  {
   "cell_type": "code",
   "execution_count": 19,
   "metadata": {},
   "outputs": [],
   "source": [
    "with open('../src/assets/data/all_stations.json', 'w', encoding='utf-8') as f:\n",
    "    json.dump(all_st, f, ensure_ascii=False)"
   ]
  },
  {
   "cell_type": "code",
   "execution_count": null,
   "metadata": {},
   "outputs": [],
   "source": []
  }
 ],
 "metadata": {
  "kernelspec": {
   "display_name": "Python 3",
   "language": "python",
   "name": "python3"
  },
  "language_info": {
   "codemirror_mode": {
    "name": "ipython",
    "version": 3
   },
   "file_extension": ".py",
   "mimetype": "text/x-python",
   "name": "python",
   "nbconvert_exporter": "python",
   "pygments_lexer": "ipython3",
   "version": "3.7.1"
  },
  "toc": {
   "nav_menu": {},
   "number_sections": true,
   "sideBar": true,
   "skip_h1_title": false,
   "title_cell": "Table of Contents",
   "title_sidebar": "Contents",
   "toc_cell": false,
   "toc_position": {},
   "toc_section_display": true,
   "toc_window_display": false
  },
  "varInspector": {
   "cols": {
    "lenName": 16,
    "lenType": 16,
    "lenVar": 40
   },
   "kernels_config": {
    "python": {
     "delete_cmd_postfix": "",
     "delete_cmd_prefix": "del ",
     "library": "var_list.py",
     "varRefreshCmd": "print(var_dic_list())"
    },
    "r": {
     "delete_cmd_postfix": ") ",
     "delete_cmd_prefix": "rm(",
     "library": "var_list.r",
     "varRefreshCmd": "cat(var_dic_list()) "
    }
   },
   "types_to_exclude": [
    "module",
    "function",
    "builtin_function_or_method",
    "instance",
    "_Feature"
   ],
   "window_display": false
  }
 },
 "nbformat": 4,
 "nbformat_minor": 2
}
